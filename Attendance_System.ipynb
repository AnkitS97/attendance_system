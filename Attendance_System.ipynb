{
 "cells": [
  {
   "cell_type": "code",
   "execution_count": 1,
   "id": "015d759c",
   "metadata": {},
   "outputs": [],
   "source": [
    "from mtcnn.mtcnn import MTCNN\n",
    "import cv2\n",
    "from keras_facenet.model import *"
   ]
  },
  {
   "cell_type": "code",
   "execution_count": 2,
   "id": "3c3de3c0",
   "metadata": {},
   "outputs": [],
   "source": [
    "img = cv2.imread(\"square image.png\")\n",
    "img_rgb = cv2.cvtColor(img, cv2.COLOR_BGR2RGB)"
   ]
  },
  {
   "cell_type": "code",
   "execution_count": 3,
   "id": "5d9f0dad",
   "metadata": {},
   "outputs": [],
   "source": [
    "detector = MTCNN()\n",
    "result = detector.detect_faces(img_rgb)"
   ]
  },
  {
   "cell_type": "code",
   "execution_count": 4,
   "id": "5d99e0fa",
   "metadata": {},
   "outputs": [],
   "source": [
    "x1, y1, width, height = result[0]['box']"
   ]
  },
  {
   "cell_type": "code",
   "execution_count": 5,
   "id": "f2ee03ac",
   "metadata": {},
   "outputs": [],
   "source": [
    "x1, y1 = abs(x1), abs(y1)\n",
    "x2, y2 = x1 + width, y1 + height"
   ]
  },
  {
   "cell_type": "code",
   "execution_count": 6,
   "id": "16cea497",
   "metadata": {},
   "outputs": [],
   "source": [
    "face = img_rgb[y1:y2, x1:x2]"
   ]
  },
  {
   "cell_type": "code",
   "execution_count": 7,
   "id": "0aee49be",
   "metadata": {},
   "outputs": [
    {
     "data": {
      "text/plain": [
       "True"
      ]
     },
     "execution_count": 7,
     "metadata": {},
     "output_type": "execute_result"
    }
   ],
   "source": [
    "cv2.imwrite('face_img.png', cv2.cvtColor(face, cv2.COLOR_RGB2BGR))"
   ]
  },
  {
   "cell_type": "code",
   "execution_count": 8,
   "id": "1686c61f",
   "metadata": {},
   "outputs": [],
   "source": [
    "from keras.models import model_from_json\n",
    "import os"
   ]
  },
  {
   "cell_type": "code",
   "execution_count": 9,
   "id": "8b9b5529",
   "metadata": {},
   "outputs": [],
   "source": [
    "model = InceptionResNetV1()"
   ]
  },
  {
   "cell_type": "code",
   "execution_count": 11,
   "id": "aca1d021",
   "metadata": {},
   "outputs": [
    {
     "name": "stdout",
     "output_type": "stream",
     "text": [
      "Total Params: 22808144\n"
     ]
    }
   ],
   "source": [
    "print(\"Total Params:\", model.count_params())"
   ]
  },
  {
   "cell_type": "code",
   "execution_count": 13,
   "id": "7ca6b000",
   "metadata": {},
   "outputs": [],
   "source": [
    "weight_path = os.path.join(\"keras_facenet\", \"weights\", \"facenet_keras_weights.h5\")\n",
    "model.load_weights(weight_path)"
   ]
  },
  {
   "cell_type": "code",
   "execution_count": null,
   "id": "19051f01",
   "metadata": {},
   "outputs": [],
   "source": []
  }
 ],
 "metadata": {
  "kernelspec": {
   "display_name": "Python 3",
   "language": "python",
   "name": "python3"
  },
  "language_info": {
   "codemirror_mode": {
    "name": "ipython",
    "version": 3
   },
   "file_extension": ".py",
   "mimetype": "text/x-python",
   "name": "python",
   "nbconvert_exporter": "python",
   "pygments_lexer": "ipython3",
   "version": "3.8.8"
  }
 },
 "nbformat": 4,
 "nbformat_minor": 5
}
